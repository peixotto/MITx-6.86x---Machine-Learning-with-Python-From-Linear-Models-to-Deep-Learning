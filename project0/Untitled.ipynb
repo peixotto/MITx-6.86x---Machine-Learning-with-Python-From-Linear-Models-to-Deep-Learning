{
 "cells": [
  {
   "cell_type": "code",
   "execution_count": 2,
   "id": "180e3bb6",
   "metadata": {},
   "outputs": [],
   "source": [
    "import numpy as np"
   ]
  },
  {
   "cell_type": "code",
   "execution_count": 3,
   "id": "6a36eb6d",
   "metadata": {},
   "outputs": [
    {
     "data": {
      "text/plain": [
       "array([[0.57636823],\n",
       "       [0.29516979]])"
      ]
     },
     "execution_count": 3,
     "metadata": {},
     "output_type": "execute_result"
    }
   ],
   "source": [
    "np.random.random([2,1])"
   ]
  },
  {
   "cell_type": "code",
   "execution_count": 4,
   "id": "f6877db1",
   "metadata": {},
   "outputs": [
    {
     "data": {
      "text/plain": [
       "array([[0.87773032, 0.64675871, 0.715835  , 0.55390042, 0.86975697,\n",
       "        0.63833038],\n",
       "       [0.43281743, 0.25181249, 0.5106848 , 0.9093942 , 0.22891068,\n",
       "        0.41805977],\n",
       "       [0.06472111, 0.62789485, 0.4994568 , 0.82515945, 0.80564464,\n",
       "        0.30429281],\n",
       "       [0.51777938, 0.20716094, 0.1665118 , 0.05309417, 0.04435052,\n",
       "        0.15210544],\n",
       "       [0.05021843, 0.09313781, 0.38413944, 0.42521087, 0.83520091,\n",
       "        0.37383122]])"
      ]
     },
     "execution_count": 4,
     "metadata": {},
     "output_type": "execute_result"
    }
   ],
   "source": [
    "np.random.random([5,6])"
   ]
  },
  {
   "cell_type": "code",
   "execution_count": 39,
   "id": "d67aee88",
   "metadata": {},
   "outputs": [
    {
     "data": {
      "text/plain": [
       "array([[0.98430378, 0.70542949],\n",
       "       [0.68332926, 0.73808061]])"
      ]
     },
     "execution_count": 39,
     "metadata": {},
     "output_type": "execute_result"
    }
   ],
   "source": [
    "x = np.array([[0.98430378, 0.70542949], [0.68332926, 0.73808061]])\n",
    "x"
   ]
  },
  {
   "cell_type": "code",
   "execution_count": 29,
   "id": "3eaf7cfd",
   "metadata": {},
   "outputs": [
    {
     "data": {
      "text/plain": [
       "3.605551275463989"
      ]
     },
     "execution_count": 29,
     "metadata": {},
     "output_type": "execute_result"
    }
   ],
   "source": [
    "# L2 norm of a matrix - Formula\n",
    "y = np.sqrt(x[0]*x[0] + x[1]*x[1])\n",
    "y"
   ]
  },
  {
   "cell_type": "code",
   "execution_count": 30,
   "id": "8db985ae",
   "metadata": {},
   "outputs": [
    {
     "data": {
      "text/plain": [
       "3.605551275463989"
      ]
     },
     "execution_count": 30,
     "metadata": {},
     "output_type": "execute_result"
    }
   ],
   "source": [
    "# L2 norm of a matrix - Function (Numpy)\n",
    "z = np.linalg.norm(x)\n",
    "z"
   ]
  },
  {
   "cell_type": "code",
   "execution_count": 31,
   "id": "1616466e",
   "metadata": {},
   "outputs": [
    {
     "data": {
      "text/plain": [
       "3.605551275463989"
      ]
     },
     "execution_count": 31,
     "metadata": {},
     "output_type": "execute_result"
    }
   ],
   "source": [
    "w = np.sqrt(np.square(x[0]) + np.square(x[1]))\n",
    "w"
   ]
  },
  {
   "cell_type": "code",
   "execution_count": 27,
   "id": "e853c1f9",
   "metadata": {},
   "outputs": [
    {
     "data": {
      "text/plain": [
       "True"
      ]
     },
     "execution_count": 27,
     "metadata": {},
     "output_type": "execute_result"
    }
   ],
   "source": [
    "y == z == w"
   ]
  }
 ],
 "metadata": {
  "kernelspec": {
   "display_name": "Python 3",
   "language": "python",
   "name": "python3"
  },
  "language_info": {
   "codemirror_mode": {
    "name": "ipython",
    "version": 3
   },
   "file_extension": ".py",
   "mimetype": "text/x-python",
   "name": "python",
   "nbconvert_exporter": "python",
   "pygments_lexer": "ipython3",
   "version": "3.6.13"
  }
 },
 "nbformat": 4,
 "nbformat_minor": 5
}
