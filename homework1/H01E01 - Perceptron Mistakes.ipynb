{
 "cells": [
  {
   "cell_type": "code",
   "execution_count": 1,
   "id": "c460df6d",
   "metadata": {},
   "outputs": [],
   "source": [
    "import numpy as np"
   ]
  },
  {
   "cell_type": "code",
   "execution_count": 42,
   "id": "f364c136",
   "metadata": {},
   "outputs": [
    {
     "name": "stdout",
     "output_type": "stream",
     "text": [
      "[-1, -1]\n",
      "1\n"
     ]
    }
   ],
   "source": [
    "x = [[-1,-1],[1,0],[-1,10]]\n",
    "y = [1,-1,1]\n",
    "\n",
    "#x = [[1,0],[-1,10],[-1,-1]]\n",
    "#y = [-1,1,1]\n",
    "\n",
    "print(x[0])\n",
    "print(y[0])\n",
    "\n",
    "x1 = np.array([-1,-1]); y1 = 1\n",
    "x2 = np.array([1,0]); y2 = -1\n",
    "#x3 = np.array([-1,1.5]); y3 = 1\n",
    "x3 = np.array([-1,10]); y3 = 1\n",
    "\n",
    "X = np.array([[-1,-1],[1,0],[-1,1.5]])"
   ]
  },
  {
   "cell_type": "code",
   "execution_count": 50,
   "id": "4502361d",
   "metadata": {},
   "outputs": [
    {
     "name": "stdout",
     "output_type": "stream",
     "text": [
      "T-1 I-1 \n",
      "x(1): [-1, -1] \t\ty(1): 1\n",
      "Updated Theta:  [-1 -1]\n",
      "\n",
      "\n",
      "T-1 I-2 \n",
      "x(2): [1, 0] \t\ty(2): -1\n",
      "\n",
      "\n",
      "T-1 I-3 \n",
      "x(3): [-1, 10] \t\ty(3): 1\n",
      "Updated Theta:  [-2  9]\n",
      "\n",
      "\n",
      "T-2 I-1 \n",
      "x(1): [-1, -1] \t\ty(1): 1\n",
      "Updated Theta:  [-3  8]\n",
      "\n",
      "\n",
      "T-2 I-2 \n",
      "x(2): [1, 0] \t\ty(2): -1\n",
      "\n",
      "\n",
      "T-2 I-3 \n",
      "x(3): [-1, 10] \t\ty(3): 1\n",
      "\n",
      "\n",
      "T-3 I-1 \n",
      "x(1): [-1, -1] \t\ty(1): 1\n",
      "Updated Theta:  [-4  7]\n",
      "\n",
      "\n",
      "T-3 I-2 \n",
      "x(2): [1, 0] \t\ty(2): -1\n",
      "\n",
      "\n",
      "T-3 I-3 \n",
      "x(3): [-1, 10] \t\ty(3): 1\n",
      "\n",
      "\n",
      "Total mistakes:  4\n",
      "All thetas: [array([-1, -1]), array([-2,  9]), array([-3,  8]), array([-4,  7])]\n"
     ]
    }
   ],
   "source": [
    "theta = np.array([0,0])\n",
    "thetas = []\n",
    "mistakes = 0\n",
    "\n",
    "for t in [1,2,3]:\n",
    "    #print(f'Tentative {t+1}')\n",
    "    for i in [0,1,2]:\n",
    "        print(f'T-{t} I-{i+1} ')\n",
    "        #print(f'Iteration {i+1}')\n",
    "        print(f'x({i+1}):',x[i],f'\\t\\ty({i+1}):',y[i]) #,f'\\t\\ttheta_{t+1}{i+1}:',theta)\n",
    "        #print(f'theta.x({i+1}):',np.dot(theta,x[i]))\n",
    "\n",
    "        #print(f'y({i+1}).x({i+1})',np.multiply(x[i],y[i]))\n",
    "        #print(f'y({i+1}).x({i+1})',np.dot(x[i],y[i]))\n",
    "                \n",
    "        if np.multiply(y[i],np.dot(theta,x[i])) <= 0:\n",
    "            theta = theta + np.multiply(y[i],x[i])\n",
    "            \n",
    "            mistakes += 1\n",
    "            thetas.append(theta)\n",
    "            print('Updated Theta: ', theta)\n",
    "        #else:\n",
    "            #print('sign: + ', theta)\n",
    "\n",
    "\n",
    "        #print(f'y*theta.x({i+1}):',np.multiply(y[i],np.dot(theta,x[i])))\n",
    "        #print('theta:',theta)\n",
    "        print('\\n')\n",
    "print('Total mistakes: ',mistakes)\n",
    "print('All thetas:',thetas)"
   ]
  },
  {
   "cell_type": "code",
   "execution_count": 65,
   "id": "eaef5bbf",
   "metadata": {},
   "outputs": [
    {
     "name": "stdout",
     "output_type": "stream",
     "text": [
      "x(i): [-1 -1]\n",
      "y(i): 1\n",
      "y(i).x(i) [-1 -1]\n",
      "theta.x(i): 0\n",
      "sign: 0 or -\n",
      "theta: [-1 -1]\n",
      "\n",
      "x(i): [1 0]\n",
      "y(i): -1\n",
      "y(i).x(i) [-1  0]\n",
      "theta.x(i): -2\n",
      "sign: 0 or -\n",
      "theta: [-2 -1]\n",
      "\n",
      "x(i): [-1.   1.5]\n",
      "y(i): 1\n",
      "y(i).x(i) [-1.   1.5]\n",
      "theta.x(i): 3.75\n",
      "sign: +\n",
      "theta: [-3.   0.5]\n"
     ]
    }
   ],
   "source": [
    "theta = [0,0]\n",
    "print('x(i):',x1)\n",
    "print('y(i):',y1)\n",
    "print('y(i).x(i)',np.dot(x1,y1))\n",
    "print('theta.x(i):',np.dot(theta,x1))\n",
    "print('sign:', '+' if np.dot(theta,x1) > 0 else '0 or -')\n",
    "theta = np.add(theta,np.dot(x1,y1))\n",
    "print('theta:',theta)\n",
    "\n",
    "print('\\nx(i):',x2)\n",
    "print('y(i):',y2)\n",
    "print('y(i).x(i)',np.dot(y2,x2))\n",
    "theta = np.add(theta,np.dot(x2,y2))\n",
    "print('theta.x(i):',np.dot(theta,x2))\n",
    "print('sign:', '+' if np.dot(theta,x2) > 0 else '0 or -')\n",
    "print('theta:',theta)\n",
    "\n",
    "print('\\nx(i):',x3)\n",
    "print('y(i):',y3)\n",
    "print('y(i).x(i)',np.dot(y3,x3))\n",
    "theta = np.add(theta,np.dot(x3,y3))\n",
    "print('theta.x(i):',np.dot(theta,x3))\n",
    "print('sign:', '+' if np.dot(theta,x3) > 0 else '0 or -')\n",
    "print('theta:',theta)"
   ]
  }
 ],
 "metadata": {
  "kernelspec": {
   "display_name": "Python 3",
   "language": "python",
   "name": "python3"
  },
  "language_info": {
   "codemirror_mode": {
    "name": "ipython",
    "version": 3
   },
   "file_extension": ".py",
   "mimetype": "text/x-python",
   "name": "python",
   "nbconvert_exporter": "python",
   "pygments_lexer": "ipython3",
   "version": "3.6.13"
  }
 },
 "nbformat": 4,
 "nbformat_minor": 5
}
