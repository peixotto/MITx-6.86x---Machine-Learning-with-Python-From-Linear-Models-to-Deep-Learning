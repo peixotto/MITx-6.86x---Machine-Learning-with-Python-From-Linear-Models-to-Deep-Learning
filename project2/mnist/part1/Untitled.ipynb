{
 "cells": [
  {
   "cell_type": "code",
   "execution_count": 56,
   "id": "ca4c1e92",
   "metadata": {},
   "outputs": [],
   "source": [
    "import numpy as np"
   ]
  },
  {
   "cell_type": "code",
   "execution_count": 73,
   "id": "1d59e64e",
   "metadata": {},
   "outputs": [],
   "source": [
    "lambida = 1"
   ]
  },
  {
   "cell_type": "code",
   "execution_count": 57,
   "id": "f78c7f66",
   "metadata": {},
   "outputs": [
    {
     "name": "stdout",
     "output_type": "stream",
     "text": [
      "[[2 1 2]\n",
      " [4 3 4]\n",
      " [1 1 2]]\n"
     ]
    }
   ],
   "source": [
    "X = np.array([[2,1,2],[4,3,4],[1,1,2]])\n",
    "print(X)"
   ]
  },
  {
   "cell_type": "code",
   "execution_count": 65,
   "id": "a34c0f35",
   "metadata": {},
   "outputs": [
    {
     "name": "stdout",
     "output_type": "stream",
     "text": [
      "[[2 4 1]\n",
      " [1 3 1]\n",
      " [2 4 2]]\n"
     ]
    }
   ],
   "source": [
    "X_t = np.transpose(X)\n",
    "print (X_t)"
   ]
  },
  {
   "cell_type": "code",
   "execution_count": 70,
   "id": "8fd4b97b",
   "metadata": {},
   "outputs": [
    {
     "data": {
      "text/plain": [
       "array([[21, 15, 22],\n",
       "       [15, 11, 16],\n",
       "       [22, 16, 24]])"
      ]
     },
     "execution_count": 70,
     "metadata": {},
     "output_type": "execute_result"
    }
   ],
   "source": [
    "np.dot(X_t,X)"
   ]
  },
  {
   "cell_type": "code",
   "execution_count": 74,
   "id": "8f392389",
   "metadata": {},
   "outputs": [
    {
     "data": {
      "text/plain": [
       "array([[1., 0., 0.],\n",
       "       [0., 1., 0.],\n",
       "       [0., 0., 1.]])"
      ]
     },
     "execution_count": 74,
     "metadata": {},
     "output_type": "execute_result"
    }
   ],
   "source": [
    "np.identity(3) * lambida"
   ]
  },
  {
   "cell_type": "code",
   "execution_count": 75,
   "id": "ecda1dfd",
   "metadata": {},
   "outputs": [
    {
     "name": "stdout",
     "output_type": "stream",
     "text": [
      "[[22. 15. 22.]\n",
      " [15. 12. 16.]\n",
      " [22. 16. 25.]]\n"
     ]
    }
   ],
   "source": [
    "print(np.dot(X_t,X) + np.identity(3) * lambida)"
   ]
  },
  {
   "cell_type": "code",
   "execution_count": 76,
   "id": "a8acaf99",
   "metadata": {},
   "outputs": [
    {
     "name": "stdout",
     "output_type": "stream",
     "text": [
      "[[ 0.46315789 -0.24210526 -0.25263158]\n",
      " [-0.24210526  0.69473684 -0.23157895]\n",
      " [-0.25263158 -0.23157895  0.41052632]]\n"
     ]
    }
   ],
   "source": [
    "A_inv = np.linalg.inv(np.dot(X_t,X) + np.identity(3) * lambida)\n",
    "print(A_inv)"
   ]
  },
  {
   "cell_type": "code",
   "execution_count": 59,
   "id": "7b202bfd",
   "metadata": {},
   "outputs": [
    {
     "name": "stdout",
     "output_type": "stream",
     "text": [
      "3 3\n"
     ]
    }
   ],
   "source": [
    "nSamples, nFeatures = X.shape\n",
    "print(nSamples,nFeatures)"
   ]
  },
  {
   "cell_type": "code",
   "execution_count": 60,
   "id": "0c38c471",
   "metadata": {},
   "outputs": [
    {
     "name": "stdout",
     "output_type": "stream",
     "text": [
      "[[ 1.   0.  -1. ]\n",
      " [-2.   1.  -0. ]\n",
      " [ 0.5 -0.5  1. ]]\n"
     ]
    }
   ],
   "source": [
    "Xinv = np.linalg.inv(X)\n",
    "print (Xinv)"
   ]
  },
  {
   "cell_type": "code",
   "execution_count": 61,
   "id": "56be4ecd",
   "metadata": {},
   "outputs": [
    {
     "data": {
      "text/plain": [
       "array([[1., 0., 0.],\n",
       "       [0., 1., 0.],\n",
       "       [0., 0., 1.]])"
      ]
     },
     "execution_count": 61,
     "metadata": {},
     "output_type": "execute_result"
    }
   ],
   "source": [
    "np.dot(X, Xinv)"
   ]
  },
  {
   "cell_type": "code",
   "execution_count": 77,
   "id": "6486abd5",
   "metadata": {},
   "outputs": [],
   "source": [
    "import sys\n",
    "import numpy as np\n",
    "import matplotlib.pyplot as plt\n",
    "sys.path.append(\"..\")\n",
    "from utils import *\n",
    "from linear_regression import *\n",
    "from svm import *\n",
    "from softmax import *\n",
    "from features import *\n",
    "from kernel import *"
   ]
  },
  {
   "cell_type": "code",
   "execution_count": 79,
   "id": "0537c0a4",
   "metadata": {},
   "outputs": [],
   "source": [
    "train_x, train_y, test_x, test_y = get_MNIST_data()"
   ]
  },
  {
   "cell_type": "code",
   "execution_count": 82,
   "id": "1539e37c",
   "metadata": {},
   "outputs": [
    {
     "name": "stdout",
     "output_type": "stream",
     "text": [
      "train_x, train_y, test_x, test_y (60000, 784) (60000,) (10000, 784) (10000,)\n"
     ]
    }
   ],
   "source": [
    "print('train_x, train_y, test_x, test_y',train_x.shape, train_y.shape, test_x.shape, test_y.shape)"
   ]
  },
  {
   "cell_type": "code",
   "execution_count": 1,
   "id": "c2f7086a",
   "metadata": {},
   "outputs": [
    {
     "ename": "NameError",
     "evalue": "name 'np' is not defined",
     "output_type": "error",
     "traceback": [
      "\u001b[1;31m---------------------------------------------------------------------------\u001b[0m",
      "\u001b[1;31mNameError\u001b[0m                                 Traceback (most recent call last)",
      "\u001b[1;32m<ipython-input-1-d8ba20c32b7b>\u001b[0m in \u001b[0;36m<module>\u001b[1;34m\u001b[0m\n\u001b[1;32m----> 1\u001b[1;33m \u001b[0mnp\u001b[0m\u001b[1;33m.\u001b[0m\u001b[0me\u001b[0m\u001b[1;33m\u001b[0m\u001b[1;33m\u001b[0m\u001b[0m\n\u001b[0m",
      "\u001b[1;31mNameError\u001b[0m: name 'np' is not defined"
     ]
    }
   ],
   "source": [
    "np.e"
   ]
  }
 ],
 "metadata": {
  "kernelspec": {
   "display_name": "Python 3",
   "language": "python",
   "name": "python3"
  },
  "language_info": {
   "codemirror_mode": {
    "name": "ipython",
    "version": 3
   },
   "file_extension": ".py",
   "mimetype": "text/x-python",
   "name": "python",
   "nbconvert_exporter": "python",
   "pygments_lexer": "ipython3",
   "version": "3.6.13"
  }
 },
 "nbformat": 4,
 "nbformat_minor": 5
}
